{
 "cells": [
  {
   "cell_type": "markdown",
   "metadata": {},
   "source": [
    "## Imports"
   ]
  },
  {
   "cell_type": "code",
   "execution_count": 1,
   "metadata": {},
   "outputs": [],
   "source": [
    "import numpy as np\n",
    "import random\n",
    "import gym\n",
    "from IPython.display import clear_output"
   ]
  },
  {
   "cell_type": "markdown",
   "metadata": {},
   "source": [
    "## Creating the environment"
   ]
  },
  {
   "cell_type": "code",
   "execution_count": 2,
   "metadata": {},
   "outputs": [
    {
     "name": "stdout",
     "output_type": "stream",
     "text": [
      "+---------+\n",
      "|\u001b[35mR\u001b[0m: | : :\u001b[43mG\u001b[0m|\n",
      "| : | : : |\n",
      "| : : : : |\n",
      "| | : | : |\n",
      "|Y| : |\u001b[34;1mB\u001b[0m: |\n",
      "+---------+\n",
      "\n"
     ]
    }
   ],
   "source": [
    "# import the environment of Taxi-v3\n",
    "environment = gym.make(\"Taxi-v3\").env\n",
    "# displaying the environment\n",
    "environment.render()"
   ]
  },
  {
   "cell_type": "markdown",
   "metadata": {},
   "source": [
    "## No.of states & actions"
   ]
  },
  {
   "cell_type": "code",
   "execution_count": 3,
   "metadata": {},
   "outputs": [
    {
     "name": "stdout",
     "output_type": "stream",
     "text": [
      "500\n",
      "No.of actions:\t 6\n"
     ]
    }
   ],
   "source": [
    "print(environment.observation_space.n)\n",
    "\n",
    "print(\"No.of actions:\\t\",environment.action_space.n)"
   ]
  },
  {
   "cell_type": "markdown",
   "metadata": {},
   "source": [
    "## Setting learning rate, discount factor and epsilon"
   ]
  },
  {
   "cell_type": "code",
   "execution_count": 4,
   "metadata": {},
   "outputs": [],
   "source": [
    "alpha = 0.1\n",
    "gamma = 0.6\n",
    "epsilon = 0.1"
   ]
  },
  {
   "cell_type": "markdown",
   "metadata": {},
   "source": [
    "## Initial Q table"
   ]
  },
  {
   "cell_type": "code",
   "execution_count": 5,
   "metadata": {},
   "outputs": [
    {
     "data": {
      "text/plain": [
       "array([[0., 0., 0., 0., 0., 0.],\n",
       "       [0., 0., 0., 0., 0., 0.],\n",
       "       [0., 0., 0., 0., 0., 0.],\n",
       "       ...,\n",
       "       [0., 0., 0., 0., 0., 0.],\n",
       "       [0., 0., 0., 0., 0., 0.],\n",
       "       [0., 0., 0., 0., 0., 0.]])"
      ]
     },
     "execution_count": 5,
     "metadata": {},
     "output_type": "execute_result"
    }
   ],
   "source": [
    "# in q table rows represent states column represents actions\n",
    "q_table = np.zeros((500,6))\n",
    "q_table"
   ]
  },
  {
   "cell_type": "markdown",
   "metadata": {},
   "source": [
    "## Train the Q table"
   ]
  },
  {
   "cell_type": "code",
   "execution_count": 6,
   "metadata": {},
   "outputs": [
    {
     "name": "stdout",
     "output_type": "stream",
     "text": [
      "[[ 0.          0.          0.          0.          0.          0.        ]\n",
      " [-2.32296135 -2.3239767  -2.32222995 -2.3239767  -2.27325184 -2.8816    ]\n",
      " [-1.58100479 -1.56146688 -1.57100807 -1.56146688 -0.7504     -1.96      ]\n",
      " ...\n",
      " [-1.02949658 -0.78884157 -1.02949658 -1.02504367 -1.96       -1.96      ]\n",
      " [-2.03112124 -2.04034732 -2.03112124 -2.03246275 -2.8816     -2.8816    ]\n",
      " [-0.196      -0.196      -0.196      -0.07       -1.         -1.        ]]\n"
     ]
    }
   ],
   "source": [
    "num_of_episodes = 100000\n",
    "\n",
    "for episode in range(0, num_of_episodes): \n",
    "    # Reset the environment, to get new situation in every episode (iteration)\n",
    "    state = environment.reset()\n",
    "\n",
    "    # Initialize variables    \n",
    "    reward = 0\n",
    "    # in each episode it will come to a terminate state to track that\n",
    "    terminated = False\n",
    "    \n",
    "    while not terminated:\n",
    "        # Take learned path or explore new actions based on the epsilon        \n",
    "        if random.uniform(0, 1) < epsilon:\n",
    "            action = environment.action_space.sample()\n",
    "        else:\n",
    "            # state represent rows, so when row is given argmax will give the index of highest value column in that row\n",
    "            action = np.argmax(q_table[state])\n",
    "            # when action is given it will give these things\n",
    "            next_state, reward, terminated, info = environment.step(action)\n",
    "\n",
    "            # calculate q value for that action\n",
    "            q_value = q_table[state, action]\n",
    "            \n",
    "            # np.argmax gives the index of the maximum but np.max gives the maximum value\n",
    "            max_value = np.max(q_table[next_state])\n",
    "            # Q learning equation\n",
    "            new_q_value = (1 - alpha) * q_value + alpha * (reward + gamma * max_value)\n",
    "\n",
    "            # Update Q-table with the new q value\n",
    "            q_table[state, action] = new_q_value\n",
    "            state = next_state \n",
    "\n",
    "print(q_table)"
   ]
  },
  {
   "cell_type": "markdown",
   "metadata": {},
   "source": [
    "## Test the goodness of the trained table"
   ]
  },
  {
   "cell_type": "code",
   "execution_count": 7,
   "metadata": {},
   "outputs": [
    {
     "name": "stdout",
     "output_type": "stream",
     "text": [
      "0.0\n"
     ]
    }
   ],
   "source": [
    "total_penalties = 0 \n",
    "num_of_episodes = 100 \n",
    "\n",
    "for _ in range(num_of_episodes):\n",
    "    # Reset the environment, to get new situation in every episode (iteration)\n",
    "    state = environment.reset()\n",
    "    penalties = 0\n",
    "    reward = 0\n",
    "    terminated = False\n",
    "\n",
    "    while not terminated:\n",
    "        # state represent rows, so when row is given argmax will give the index of highest value column in that row\n",
    "        action = np.argmax(q_table[state])\n",
    "        # when action is given it will give these things\n",
    "        state, reward, terminated, info = environment.step(action)\n",
    "\n",
    "        # rewards < -10 were considered as penalties\n",
    "        if reward <= -10:\n",
    "            penalties += 1\n",
    "    \n",
    "    total_penalties += penalties\n",
    "\n",
    "print(total_penalties / num_of_episodes) "
   ]
  }
 ],
 "metadata": {
  "kernelspec": {
   "display_name": "Python 3.10.6 64-bit",
   "language": "python",
   "name": "python3"
  },
  "language_info": {
   "codemirror_mode": {
    "name": "ipython",
    "version": 3
   },
   "file_extension": ".py",
   "mimetype": "text/x-python",
   "name": "python",
   "nbconvert_exporter": "python",
   "pygments_lexer": "ipython3",
   "version": "3.10.6"
  },
  "orig_nbformat": 4,
  "vscode": {
   "interpreter": {
    "hash": "aee8b7b246df8f9039afb4144a1f6fd8d2ca17a180786b69acc140d282b71a49"
   }
  }
 },
 "nbformat": 4,
 "nbformat_minor": 2
}
